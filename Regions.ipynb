{
 "cells": [
  {
   "cell_type": "code",
   "execution_count": 903,
   "metadata": {},
   "outputs": [],
   "source": [
    "import pandas as pd\n",
    "import os\n",
    "import numpy as np\n",
    "import seaborn as sns\n",
    "from pandas.plotting import lag_plot\n",
    "import matplotlib.pyplot as plt\n",
    "import statsmodels.api as sm\n",
    "from sklearn.model_selection import train_test_split\n",
    "import numpy as np\n",
    "from tqdm import tqdm\n",
    "from keras.models import Sequential\n",
    "from keras.callbacks import EarlyStopping\n",
    "from keras.layers import Dense, Dropout , LSTM , Bidirectional\n",
    "from sklearn.metrics import mean_squared_error, mean_absolute_error\n",
    "from sklearn.preprocessing import MinMaxScaler\n",
    "import matplotlib as mpl\n",
    "from pandas.plotting import autocorrelation_plot\n",
    "from statsmodels.graphics.tsaplots import plot_acf\n",
    "from statsmodels.tsa.stattools import adfuller\n",
    "from sklearn.ensemble import RandomForestRegressor\n",
    "%matplotlib inline"
   ]
  },
  {
   "cell_type": "code",
   "execution_count": null,
   "metadata": {},
   "outputs": [],
   "source": [
    "def clean(col):\n",
    "    if '(CIV)' in col:\n",
    "        return col.split(' ')[0]\n",
    "    else:\n",
    "        return col"
   ]
  },
  {
   "cell_type": "code",
   "execution_count": null,
   "metadata": {},
   "outputs": [],
   "source": [
    "def prepare_moisture_dataset():\n",
    "    df_weather_moisture_sheet_one = pd.read_excel('../Weather Ivory Coast.xlsx' \\\n",
    "                                                  ,sheet_name='AgDash.CIV.SoilM.Download.20Yr'\\\n",
    "                                                  ,index_col=None)\n",
    "    df_weather_moisture_sheet_two = pd.read_excel('../Weather Ivory Coast.xlsx'\\\n",
    "                                                  , sheet_name='AgDash.CIV.SoilM.Download.10Yr'\\\n",
    "                                                  ,index_col=None)\n",
    "    df_moisture_20y = df_weather_moisture_sheet_one.append(df_weather_moisture_sheet_two)\n",
    "    df_moisture_20y.reset_index(inplace=True)\n",
    "    df_moisture_20y.drop(columns=['index'], inplace=True)\n",
    "    df_moisture_20y.rename(columns={'Average Monthly Soil Moisture (mm in top 0-1.6m soil)':'Date'}\\\n",
    "                       , inplace=True)\n",
    "    df_moisture_20y.rename(columns = lambda x:clean(x), inplace=True)\n",
    "    df_moisture_20y['Date'] =  pd.to_datetime(df_moisture_20y['Date'], format='%d.%m.%Y')\n",
    "    df_moisture_20y_filtered_regions = df_moisture_20y.iloc[:,[0,1,2,6,9,12,13,14]]\n",
    "    df_moisture_20y_filtered_regions = df_moisture_20y_filtered_regions.set_index('Date')\n",
    "    df_moisture_20y_filtered_regions['year'] = df_moisture_20y_filtered_regions.index.year\n",
    "    df_moisture_20y_filtered_regions['month'] = df_moisture_20y_filtered_regions.index.month\n",
    "    df_moisture_20y_filtered_regions['date'] = df_moisture_20y_filtered_regions.index.day\n",
    "    \n",
    "    return df_moisture_20y_filtered_regions"
   ]
  },
  {
   "cell_type": "code",
   "execution_count": null,
   "metadata": {},
   "outputs": [],
   "source": [
    "def prepare_weather_dataset():\n",
    "    \n",
    "    df_weather_temp_precp_one = pd.read_excel('../Weather Ivory Coast.xlsx' \\\n",
    "                                                  ,sheet_name='AgDash.CIV.IvoryCoast.20Yr'\\\n",
    "                                                  ,index_col=None)\n",
    "    df_weather_temp_precp_two = pd.read_excel('../Weather Ivory Coast.xlsx' \\\n",
    "                                                  ,sheet_name='AgDash.CIV.IvoryCoast.10Yr'\\\n",
    "                                                  ,index_col=None)\n",
    "    df_weather_appended = df_weather_temp_precp_one.append(df_weather_temp_precp_two)\n",
    "    df_weather_appended.rename(columns={'Unnamed: 0':'Variable','Unnamed: 1':'Date'}, inplace=True)\n",
    "    df_weather_appended[df_weather_appended['Variable']=='Last updated:']\n",
    "    df_weather_appended.drop(14600, inplace=True)\n",
    "    df_weather_appended = df_weather_appended.iloc[:,[0,1,2,3,4,6,9,12,16]]\n",
    "\n",
    "    df_weather_min_temp = df_weather_appended[df_weather_appended['Variable']=='Minimum Temperature (°C)']\n",
    "    df_weather_min_temp.drop(columns='Variable', inplace=True)\n",
    "    df_weather_min_temp.reset_index(inplace=True)\n",
    "    df_weather_min_temp.drop(columns=['index'], inplace=True)\n",
    "    df_weather_min_temp = df_weather_min_temp.set_index('Date')\n",
    "    df_weather_min_temp.index =  pd.to_datetime(df_weather_min_temp.index, format='%d.%m.%Y')\n",
    "    df_weather_min_temp['year'] = df_weather_min_temp.index.year\n",
    "    df_weather_min_temp['month'] = df_weather_min_temp.index.month\n",
    "    df_weather_min_temp['date'] = df_weather_min_temp.index.day\n",
    "    df_weather_min_temp.rename(columns = lambda x:clean(x), inplace=True)\n",
    "\n",
    "    df_weather_max_temp = df_weather_appended[df_weather_appended['Variable']=='Maximum Temperature (°C)']\n",
    "    df_weather_max_temp.drop(columns='Variable', inplace=True)\n",
    "    df_weather_max_temp.reset_index(inplace=True)\n",
    "    df_weather_max_temp.drop(columns=['index'], inplace=True)\n",
    "    df_weather_max_temp = df_weather_max_temp.set_index('Date')\n",
    "    df_weather_max_temp.index =  pd.to_datetime(df_weather_max_temp.index, format='%d.%m.%Y')\n",
    "    df_weather_max_temp['year'] = df_weather_max_temp.index.year\n",
    "    df_weather_max_temp['month'] = df_weather_max_temp.index.month\n",
    "    df_weather_max_temp['date'] = df_weather_max_temp.index.day\n",
    "    df_weather_max_temp.rename(columns = lambda x:clean(x), inplace=True)\n",
    "\n",
    "    df_weather_avg_temp = df_weather_appended[df_weather_appended['Variable']=='Average Temperature (°C)']\n",
    "    df_weather_avg_temp.drop(columns='Variable', inplace=True)\n",
    "    df_weather_avg_temp.reset_index(inplace=True)\n",
    "    df_weather_avg_temp.drop(columns=['index'], inplace=True)\n",
    "    df_weather_avg_temp = df_weather_avg_temp.set_index('Date')\n",
    "    df_weather_avg_temp.index =  pd.to_datetime(df_weather_avg_temp.index, format='%d.%m.%Y')\n",
    "    df_weather_avg_temp['year'] = df_weather_avg_temp.index.year\n",
    "    df_weather_avg_temp['month'] = df_weather_avg_temp.index.month\n",
    "    df_weather_avg_temp['date'] = df_weather_avg_temp.index.day\n",
    "    df_weather_avg_temp.rename(columns = lambda x:clean(x), inplace=True)\n",
    "\n",
    "    df_weather_precip = df_weather_appended[df_weather_appended['Variable']=='Precipitation (mm)']\n",
    "    df_weather_precip.drop(columns='Variable', inplace=True)\n",
    "    df_weather_precip.reset_index(inplace=True)\n",
    "    df_weather_precip.drop(columns=['index'], inplace=True)\n",
    "    df_weather_precip = df_weather_precip.set_index('Date')\n",
    "    df_weather_precip.index =  pd.to_datetime(df_weather_precip.index, format='%d.%m.%Y')\n",
    "    df_weather_precip['year'] = df_weather_precip.index.year\n",
    "    df_weather_precip['month'] = df_weather_precip.index.month\n",
    "    df_weather_precip['date'] = df_weather_precip.index.day\n",
    "    df_weather_precip.rename(columns = lambda x:clean(x), inplace=True)\n",
    "    \n",
    "    return df_weather_min_temp, df_weather_max_temp, df_weather_avg_temp, df_weather_precip"
   ]
  },
  {
   "cell_type": "code",
   "execution_count": null,
   "metadata": {},
   "outputs": [],
   "source": [
    "def prepare_close_dataset():\n",
    "    df_20y_closing_price = pd.read_excel('../Cocoa Futures Prices.xlsx', sheet_name='Prices')\n",
    "    df_20y_closing_price = df_20y_closing_price.iloc[:,[0,1]]\n",
    "    df_20y_closing_price['Exchange Date'] = pd.to_datetime(df_20y_closing_price['Exchange Date'], format='%Y-%m-%d')\n",
    "    df_20y_closing_price = df_20y_closing_price.set_index('Exchange Date')\n",
    "    df_20y_closing_price['year'] = df_20y_closing_price.index.year\n",
    "    df_20y_closing_price['date'] = df_20y_closing_price.index.day\n",
    "    df_20y_closing_price['month'] = df_20y_closing_price.index.month\n",
    "    return df_20y_closing_price"
   ]
  },
  {
   "cell_type": "code",
   "execution_count": 741,
   "metadata": {},
   "outputs": [
    {
     "name": "stderr",
     "output_type": "stream",
     "text": [
      "/Applications/Utilities/anaconda3/lib/python3.7/site-packages/pandas/core/frame.py:4170: SettingWithCopyWarning: \n",
      "A value is trying to be set on a copy of a slice from a DataFrame\n",
      "\n",
      "See the caveats in the documentation: https://pandas.pydata.org/pandas-docs/stable/user_guide/indexing.html#returning-a-view-versus-a-copy\n",
      "  errors=errors,\n"
     ]
    }
   ],
   "source": [
    "dataset_moisture = prepare_moisture_dataset()\n",
    "dataset_minTemp, dataset_maxTemp, dataset_avgTemp, dataset_precip = prepare_weather_dataset()\n",
    "dataset_close = prepare_close_dataset()"
   ]
  },
  {
   "cell_type": "code",
   "execution_count": null,
   "metadata": {},
   "outputs": [],
   "source": [
    "# dataset_moisture.iloc[:,:-3].boxplot(figsize=(12,5), rot=90, grid=False, showmeans=True)\n",
    "# plt.ylabel('Moisture(mm in top 0-1.6m soil)')\n",
    "# plt.xlabel('Regions in Ivory Coast')\n",
    "# np.round(pd.DataFrame(dataset_moisture.describe().iloc[[1,2,3,7],:-3]),2)#.to_csv('moistur_stats.csv')"
   ]
  },
  {
   "cell_type": "code",
   "execution_count": null,
   "metadata": {},
   "outputs": [],
   "source": [
    "# dataset_minTemp.iloc[:,:-3].boxplot(figsize=(12,5), rot=90, grid=False, showmeans=True)\n",
    "# plt.ylabel('Minimum Temperature')\n",
    "# plt.xlabel('Regions in Ivory Coast')\n",
    "# np.round(pd.DataFrame(dataset_minTemp.describe().iloc[[1,2,3,7],:-3]),2)"
   ]
  },
  {
   "cell_type": "code",
   "execution_count": null,
   "metadata": {},
   "outputs": [],
   "source": [
    "# dataset_maxTemp.iloc[:,:-3].boxplot(figsize=(12,5), rot=90, grid=False, showmeans=True)\n",
    "# plt.ylabel('Maximum Temperature')\n",
    "# plt.xlabel('Regions in Ivory Coast')\n",
    "# np.round(pd.DataFrame(dataset_maxTemp.describe().iloc[[1,2,3,7],:-3]),2)#.to_csv('moistur_stats.csv')"
   ]
  },
  {
   "cell_type": "code",
   "execution_count": null,
   "metadata": {},
   "outputs": [],
   "source": [
    "# dataset_avgTemp.iloc[:,:-3].boxplot(figsize=(12,5), rot=90, grid=False, showmeans=True)\n",
    "# plt.ylabel('Average Temperature')\n",
    "# plt.xlabel('Regions in Ivory Coast')\n",
    "# np.round(pd.DataFrame(dataset_avgTemp.describe().iloc[[1,2,3,7],:-3]),2)#.to_csv('moistur_stats.csv')"
   ]
  },
  {
   "cell_type": "code",
   "execution_count": null,
   "metadata": {},
   "outputs": [],
   "source": [
    "# dataset_precip.iloc[:,:-3].boxplot(figsize=(12,5), rot=90, grid=False, showmeans=True)\n",
    "# plt.ylabel('Precipitation')\n",
    "# plt.xlabel('Regions in Ivory Coast')\n",
    "# np.round(pd.DataFrame(dataset_precip.describe().iloc[[1,2,3,7],:-3]),2)#.to_csv('moistur_stats.csv')"
   ]
  },
  {
   "cell_type": "code",
   "execution_count": null,
   "metadata": {},
   "outputs": [],
   "source": [
    "#https://pandas.pydata.org/pandas-docs/stable/user_guide/timeseries.html"
   ]
  },
  {
   "cell_type": "code",
   "execution_count": null,
   "metadata": {},
   "outputs": [],
   "source": [
    "# dataset_moisture.iloc[:,:-3].plot(figsize=(16,5)) #monthly\n",
    "# dataset_minTemp.iloc[:,:-3].resample('M').median().plot(figsize=(16,5))\n",
    "# dataset_maxTemp.iloc[:,:-3].resample('M').median().plot(figsize=(16,5))\n",
    "# dataset_avgTemp.iloc[:,:-3].resample('M').median().plot(figsize=(16,5))\n",
    "# dataset_precip.iloc[:,:-3].resample('M').median().plot(figsize=(16,5))"
   ]
  },
  {
   "cell_type": "code",
   "execution_count": null,
   "metadata": {},
   "outputs": [],
   "source": [
    "# fig, ax = plt.subplots(figsize=(15,4))\n",
    "# ax.plot(dataset_moisture['Cote D\\'Ivoire'], marker='.', linestyle='-', linewidth=0.5, label='Daily')\n",
    "# ax.plot(dataset_moisture['Cote D\\'Ivoire'].resample(\"A\").mean(), marker='+', markersize=8, linestyle='-.', label='Yearly Mean Resample')\n",
    "# ax.set_ylabel(' Moisture')\n",
    "# ax.set_xlabel('Date')\n",
    "# ax.legend();"
   ]
  },
  {
   "cell_type": "code",
   "execution_count": null,
   "metadata": {},
   "outputs": [],
   "source": [
    "# fig, ax = plt.subplots(figsize=(15,4))\n",
    "# ax.plot(dataset_minTemp['Cote D\\'Ivoire'], marker='.', linestyle='-', linewidth=0.5, label='Daily')\n",
    "# ax.plot(dataset_minTemp['Cote D\\'Ivoire'].resample(\"A\").mean(), marker='+', markersize=8, linestyle='-.', label='Yearly Mean Resample')\n",
    "# ax.set_ylabel(' Moisture')\n",
    "# ax.set_xlabel('Date')\n",
    "# ax.legend();"
   ]
  },
  {
   "cell_type": "code",
   "execution_count": null,
   "metadata": {},
   "outputs": [],
   "source": [
    "# fig, ax = plt.subplots(figsize=(15,4))\n",
    "# ax.plot(dataset_precip['Cote D\\'Ivoire'], marker='.', linestyle='-', linewidth=0.5, label='Daily')\n",
    "# ax.plot(dataset_precip['Cote D\\'Ivoire'].resample(\"A\").mean(), marker='+', markersize=8, linestyle='-.', label='Yearly Mean Resample')\n",
    "# ax.set_ylabel(' Moisture')\n",
    "# ax.set_xlabel('Date')\n",
    "# ax.legend();"
   ]
  },
  {
   "cell_type": "code",
   "execution_count": null,
   "metadata": {},
   "outputs": [],
   "source": [
    "# dataset_close.iloc[:,:-3].plot(figsize=(16,5))\n",
    "# np.round(pd.DataFrame(dataset_close.describe().iloc[[1,2,3,7],:-3]),2)#.to_csv('moistur_stats.csv')"
   ]
  },
  {
   "cell_type": "code",
   "execution_count": 742,
   "metadata": {
    "scrolled": true
   },
   "outputs": [],
   "source": [
    "dataset_close = dataset_close['Close'].resample('MS').mean() # monthly start date resampled\n",
    "dataset_close = pd.DataFrame(dataset_close, index=dataset_close.index)"
   ]
  },
  {
   "cell_type": "code",
   "execution_count": 743,
   "metadata": {},
   "outputs": [],
   "source": [
    "dataset_moisture = dataset_moisture.iloc[:,[0]]\n",
    "dataset_minTemp = dataset_minTemp.iloc[:,[0]]\n",
    "dataset_maxTemp = dataset_maxTemp.iloc[:,[0]]\n",
    "dataset_avgTemp = dataset_avgTemp.iloc[:,[0]]\n",
    "dataset_precip = dataset_precip.iloc[:,[0]]\n",
    "dataset_moisture.rename(columns={'Cote D\\'Ivoire':'Moisture'}, inplace=True) # renaming column\n",
    "dataset_minTemp.rename(columns={'Cote D\\'Ivoire':'MinTemp'}, inplace=True) # renaming column\n",
    "dataset_maxTemp.rename(columns={'Cote D\\'Ivoire':'MaxTemp'}, inplace=True) # renaming column\n",
    "dataset_avgTemp.rename(columns={'Cote D\\'Ivoire':'AvgTemp'}, inplace=True) # renaming column\n",
    "dataset_precip.rename(columns={'Cote D\\'Ivoire':'Precip'}, inplace=True) # renaming column"
   ]
  },
  {
   "cell_type": "code",
   "execution_count": 744,
   "metadata": {},
   "outputs": [],
   "source": [
    "# Merge using inner join on datetime index\n",
    "df_prices_moisture = dataset_close.merge(dataset_moisture\\\n",
    "                                       , how='inner'\\\n",
    "                                       , left_index=True\\\n",
    "                                       , right_index=True\n",
    "                           )\n",
    "# Redefining index\n",
    "df_prices_moisture.reset_index(inplace=True)\n",
    "df_prices_moisture.set_index('index', inplace=True)"
   ]
  },
  {
   "cell_type": "code",
   "execution_count": 745,
   "metadata": {},
   "outputs": [],
   "source": [
    "dataset_minTemp = dataset_minTemp.resample('MS').mean()\n",
    "dataset_maxTemp = dataset_maxTemp.resample('MS').mean()\n",
    "dataset_avgTemp = dataset_avgTemp.resample('MS').mean()\n",
    "dataset_precip = dataset_precip.resample('MS').mean()"
   ]
  },
  {
   "cell_type": "code",
   "execution_count": 746,
   "metadata": {},
   "outputs": [],
   "source": [
    "# Merge using inner join on datetime index\n",
    "df_prices_moisture_mintemp = df_prices_moisture.merge(dataset_minTemp\\\n",
    "                                       , how='inner'\\\n",
    "                                       , left_index=True\\\n",
    "                                       , right_index=True\n",
    "                           )\n",
    "\n",
    "df_prices_moisture_mintemp.reset_index(inplace=True)\n",
    "df_prices_moisture_mintemp.set_index('index', inplace=True)"
   ]
  },
  {
   "cell_type": "code",
   "execution_count": 747,
   "metadata": {},
   "outputs": [],
   "source": [
    "# Merge using inner join on datetime index\n",
    "df_prices_moisture_mintemp = df_prices_moisture.merge(dataset_minTemp\\\n",
    "                                       , how='inner'\\\n",
    "                                       , left_index=True\\\n",
    "                                       , right_index=True\n",
    "                           )\n",
    "\n",
    "df_prices_moisture_mintemp.reset_index(inplace=True)\n",
    "df_prices_moisture_mintemp.set_index('index', inplace=True)"
   ]
  },
  {
   "cell_type": "code",
   "execution_count": 748,
   "metadata": {},
   "outputs": [],
   "source": [
    "# Merge using inner join on datetime index\n",
    "df_prices_moisture_mintemp_maxtemp = df_prices_moisture_mintemp.merge(dataset_maxTemp\\\n",
    "                                       , how='inner'\\\n",
    "                                       , left_index=True\\\n",
    "                                       , right_index=True\n",
    "                           )\n",
    "\n",
    "df_prices_moisture_mintemp_maxtemp.reset_index(inplace=True)\n",
    "df_prices_moisture_mintemp_maxtemp.set_index('index', inplace=True)"
   ]
  },
  {
   "cell_type": "code",
   "execution_count": 749,
   "metadata": {},
   "outputs": [],
   "source": [
    "# Merge using inner join on datetime index\n",
    "df_prices_moisture_mintemp_maxtemp_avgtemp = df_prices_moisture_mintemp_maxtemp.merge(dataset_avgTemp\\\n",
    "                                       , how='inner'\\\n",
    "                                       , left_index=True\\\n",
    "                                       , right_index=True\n",
    "                           )\n",
    "\n",
    "df_prices_moisture_mintemp_maxtemp_avgtemp.reset_index(inplace=True)\n",
    "df_prices_moisture_mintemp_maxtemp_avgtemp.set_index('index', inplace=True)"
   ]
  },
  {
   "cell_type": "code",
   "execution_count": 750,
   "metadata": {},
   "outputs": [],
   "source": [
    "# Merge using inner join on datetime index\n",
    "df_prices_moisture_mintemp_maxtemp_avgtemp_precip = df_prices_moisture_mintemp_maxtemp_avgtemp.merge(dataset_precip\\\n",
    "                                       , how='inner'\\\n",
    "                                       , left_index=True\\\n",
    "                                       , right_index=True\n",
    "                           )\n",
    "\n",
    "df_prices_moisture_mintemp_maxtemp_avgtemp_precip.reset_index(inplace=True)\n",
    "df_prices_moisture_mintemp_maxtemp_avgtemp_precip.set_index('index', inplace=True)"
   ]
  },
  {
   "cell_type": "code",
   "execution_count": 751,
   "metadata": {},
   "outputs": [],
   "source": [
    "df_IvoryCoast = df_prices_moisture_mintemp_maxtemp_avgtemp_precip.copy()"
   ]
  },
  {
   "cell_type": "code",
   "execution_count": 752,
   "metadata": {},
   "outputs": [],
   "source": [
    "df_IvoryCoast['month'] = df_IvoryCoast.index.month\n",
    "df_IvoryCoast['year'] = df_IvoryCoast.index.year"
   ]
  },
  {
   "cell_type": "code",
   "execution_count": 753,
   "metadata": {},
   "outputs": [
    {
     "data": {
      "text/html": [
       "<div>\n",
       "<style scoped>\n",
       "    .dataframe tbody tr th:only-of-type {\n",
       "        vertical-align: middle;\n",
       "    }\n",
       "\n",
       "    .dataframe tbody tr th {\n",
       "        vertical-align: top;\n",
       "    }\n",
       "\n",
       "    .dataframe thead th {\n",
       "        text-align: right;\n",
       "    }\n",
       "</style>\n",
       "<table border=\"1\" class=\"dataframe\">\n",
       "  <thead>\n",
       "    <tr style=\"text-align: right;\">\n",
       "      <th></th>\n",
       "      <th>Close</th>\n",
       "      <th>Moisture</th>\n",
       "      <th>MinTemp</th>\n",
       "      <th>MaxTemp</th>\n",
       "      <th>AvgTemp</th>\n",
       "      <th>Precip</th>\n",
       "      <th>month</th>\n",
       "      <th>year</th>\n",
       "    </tr>\n",
       "    <tr>\n",
       "      <th>index</th>\n",
       "      <th></th>\n",
       "      <th></th>\n",
       "      <th></th>\n",
       "      <th></th>\n",
       "      <th></th>\n",
       "      <th></th>\n",
       "      <th></th>\n",
       "      <th></th>\n",
       "    </tr>\n",
       "  </thead>\n",
       "  <tbody>\n",
       "    <tr>\n",
       "      <th>2000-03-01</th>\n",
       "      <td>579.150000</td>\n",
       "      <td>228.8</td>\n",
       "      <td>20.887097</td>\n",
       "      <td>38.854839</td>\n",
       "      <td>29.900000</td>\n",
       "      <td>1.819355</td>\n",
       "      <td>3</td>\n",
       "      <td>2000</td>\n",
       "    </tr>\n",
       "    <tr>\n",
       "      <th>2000-04-01</th>\n",
       "      <td>593.777778</td>\n",
       "      <td>234.7</td>\n",
       "      <td>23.123333</td>\n",
       "      <td>39.610000</td>\n",
       "      <td>31.393333</td>\n",
       "      <td>2.976667</td>\n",
       "      <td>4</td>\n",
       "      <td>2000</td>\n",
       "    </tr>\n",
       "    <tr>\n",
       "      <th>2000-05-01</th>\n",
       "      <td>613.095238</td>\n",
       "      <td>279.1</td>\n",
       "      <td>22.719355</td>\n",
       "      <td>37.777419</td>\n",
       "      <td>30.274194</td>\n",
       "      <td>4.583871</td>\n",
       "      <td>5</td>\n",
       "      <td>2000</td>\n",
       "    </tr>\n",
       "    <tr>\n",
       "      <th>2000-06-01</th>\n",
       "      <td>619.363636</td>\n",
       "      <td>349.0</td>\n",
       "      <td>21.613333</td>\n",
       "      <td>33.383333</td>\n",
       "      <td>27.530000</td>\n",
       "      <td>5.776667</td>\n",
       "      <td>6</td>\n",
       "      <td>2000</td>\n",
       "    </tr>\n",
       "    <tr>\n",
       "      <th>2000-07-01</th>\n",
       "      <td>610.857143</td>\n",
       "      <td>393.9</td>\n",
       "      <td>20.625806</td>\n",
       "      <td>31.245161</td>\n",
       "      <td>25.954839</td>\n",
       "      <td>4.064516</td>\n",
       "      <td>7</td>\n",
       "      <td>2000</td>\n",
       "    </tr>\n",
       "  </tbody>\n",
       "</table>\n",
       "</div>"
      ],
      "text/plain": [
       "                 Close  Moisture    MinTemp    MaxTemp    AvgTemp    Precip  \\\n",
       "index                                                                         \n",
       "2000-03-01  579.150000     228.8  20.887097  38.854839  29.900000  1.819355   \n",
       "2000-04-01  593.777778     234.7  23.123333  39.610000  31.393333  2.976667   \n",
       "2000-05-01  613.095238     279.1  22.719355  37.777419  30.274194  4.583871   \n",
       "2000-06-01  619.363636     349.0  21.613333  33.383333  27.530000  5.776667   \n",
       "2000-07-01  610.857143     393.9  20.625806  31.245161  25.954839  4.064516   \n",
       "\n",
       "            month  year  \n",
       "index                    \n",
       "2000-03-01      3  2000  \n",
       "2000-04-01      4  2000  \n",
       "2000-05-01      5  2000  \n",
       "2000-06-01      6  2000  \n",
       "2000-07-01      7  2000  "
      ]
     },
     "execution_count": 753,
     "metadata": {},
     "output_type": "execute_result"
    }
   ],
   "source": [
    "df_IvoryCoast.head()"
   ]
  },
  {
   "cell_type": "code",
   "execution_count": null,
   "metadata": {},
   "outputs": [],
   "source": [
    "# #df['year'] = [d.year for d in df.date]\n",
    "# #df['month'] = [d.strftime('%b') for d in df.date]\n",
    "# years = df_IvoryCoast['year'].unique()\n",
    "\n",
    "# # Prep Colors\n",
    "# np.random.seed(100)\n",
    "# mycolors = np.random.choice(list(mpl.colors.XKCD_COLORS.keys()), len(years), replace=False)\n",
    "\n",
    "# # Draw Plot\n",
    "# plt.figure(figsize=(8,4), dpi= 100)\n",
    "# for i, y in enumerate(years):\n",
    "#     if i > 0:        \n",
    "#         plt.plot('month', 'Precip', data=df_IvoryCoast.loc[df_IvoryCoast.year==y, :], color=mycolors[i], label=y)\n",
    "#         plt.text(df_IvoryCoast.loc[df_IvoryCoast.year==y, :].shape[0], df_IvoryCoast.loc[df_IvoryCoast.year==y, 'Precip'][-1:].values[0], y, fontsize=8, color=mycolors[i])\n"
   ]
  },
  {
   "cell_type": "code",
   "execution_count": null,
   "metadata": {},
   "outputs": [],
   "source": [
    "# #df['year'] = [d.year for d in df.date]\n",
    "# #df['month'] = [d.strftime('%b') for d in df.date]\n",
    "# years = df_IvoryCoast['year'].unique()\n",
    "\n",
    "# # Prep Colors\n",
    "# np.random.seed(100)\n",
    "# mycolors = np.random.choice(list(mpl.colors.XKCD_COLORS.keys()), len(years), replace=False)\n",
    "\n",
    "# # Draw Plot\n",
    "# plt.figure(figsize=(8,4), dpi= 100)\n",
    "# for i, y in enumerate(years):\n",
    "#     if i > 0:        \n",
    "#         plt.plot('month', 'Close', data=df_IvoryCoast.loc[df_IvoryCoast.year==y, :], color=mycolors[i], label=y)\n",
    "#         plt.text(df_IvoryCoast.loc[df_IvoryCoast.year==y, :].shape[0], df_IvoryCoast.loc[df_IvoryCoast.year==y, 'Close'][-1:].values[0], y, fontsize=8, color=mycolors[i])\n",
    "\n"
   ]
  },
  {
   "cell_type": "code",
   "execution_count": null,
   "metadata": {},
   "outputs": [],
   "source": [
    "# decomposition_Close = sm.tsa.seasonal_decompose(df_IvoryCoast['Precip'], model='multiplicative')\n",
    "# fig = decomposition_Close.plot()\n",
    "# plt.show()"
   ]
  },
  {
   "cell_type": "code",
   "execution_count": 757,
   "metadata": {},
   "outputs": [],
   "source": [
    "decomposition_Moisture = sm.tsa.seasonal_decompose(df_IvoryCoast['Moisture'], model='multiplicative')\n",
    "decomposition_MinTemp = sm.tsa.seasonal_decompose(df_IvoryCoast['MinTemp'], model='multiplicative')\n",
    "decomposition_MaxTemp = sm.tsa.seasonal_decompose(df_IvoryCoast['MaxTemp'], model='multiplicative')\n",
    "decomposition_AvgTemp = sm.tsa.seasonal_decompose(df_IvoryCoast['AvgTemp'], model='multiplicative')\n",
    "decomposition_Precip = sm.tsa.seasonal_decompose(df_IvoryCoast['Precip'], model='multiplicative')\n",
    "decomposition_Close = sm.tsa.seasonal_decompose(df_IvoryCoast['Close'], model='multiplicative')"
   ]
  },
  {
   "cell_type": "code",
   "execution_count": 759,
   "metadata": {},
   "outputs": [
    {
     "data": {
      "text/html": [
       "<div>\n",
       "<style scoped>\n",
       "    .dataframe tbody tr th:only-of-type {\n",
       "        vertical-align: middle;\n",
       "    }\n",
       "\n",
       "    .dataframe tbody tr th {\n",
       "        vertical-align: top;\n",
       "    }\n",
       "\n",
       "    .dataframe thead th {\n",
       "        text-align: right;\n",
       "    }\n",
       "</style>\n",
       "<table border=\"1\" class=\"dataframe\">\n",
       "  <thead>\n",
       "    <tr style=\"text-align: right;\">\n",
       "      <th></th>\n",
       "      <th>Moisture</th>\n",
       "      <th>MinTemp</th>\n",
       "      <th>MaxTemp</th>\n",
       "      <th>AvgTemp</th>\n",
       "      <th>Precip</th>\n",
       "      <th>Close</th>\n",
       "      <th>month</th>\n",
       "      <th>year</th>\n",
       "    </tr>\n",
       "    <tr>\n",
       "      <th>Date</th>\n",
       "      <th></th>\n",
       "      <th></th>\n",
       "      <th></th>\n",
       "      <th></th>\n",
       "      <th></th>\n",
       "      <th></th>\n",
       "      <th></th>\n",
       "      <th></th>\n",
       "    </tr>\n",
       "  </thead>\n",
       "  <tbody>\n",
       "    <tr>\n",
       "      <th>2000-09-01</th>\n",
       "      <td>1.007060</td>\n",
       "      <td>1.022139</td>\n",
       "      <td>1.023832</td>\n",
       "      <td>1.022186</td>\n",
       "      <td>1.009865</td>\n",
       "      <td>0.971364</td>\n",
       "      <td>9</td>\n",
       "      <td>2000</td>\n",
       "    </tr>\n",
       "    <tr>\n",
       "      <th>2000-10-01</th>\n",
       "      <td>1.004295</td>\n",
       "      <td>1.019263</td>\n",
       "      <td>1.006304</td>\n",
       "      <td>1.010330</td>\n",
       "      <td>0.984813</td>\n",
       "      <td>0.962382</td>\n",
       "      <td>10</td>\n",
       "      <td>2000</td>\n",
       "    </tr>\n",
       "    <tr>\n",
       "      <th>2000-11-01</th>\n",
       "      <td>1.024722</td>\n",
       "      <td>1.024002</td>\n",
       "      <td>0.991924</td>\n",
       "      <td>1.003785</td>\n",
       "      <td>1.253921</td>\n",
       "      <td>0.874749</td>\n",
       "      <td>11</td>\n",
       "      <td>2000</td>\n",
       "    </tr>\n",
       "    <tr>\n",
       "      <th>2000-12-01</th>\n",
       "      <td>1.034663</td>\n",
       "      <td>0.995086</td>\n",
       "      <td>0.991728</td>\n",
       "      <td>0.994344</td>\n",
       "      <td>0.546487</td>\n",
       "      <td>0.847439</td>\n",
       "      <td>12</td>\n",
       "      <td>2000</td>\n",
       "    </tr>\n",
       "    <tr>\n",
       "      <th>2001-01-01</th>\n",
       "      <td>1.021791</td>\n",
       "      <td>0.989449</td>\n",
       "      <td>0.988048</td>\n",
       "      <td>0.990362</td>\n",
       "      <td>0.134294</td>\n",
       "      <td>1.022057</td>\n",
       "      <td>1</td>\n",
       "      <td>2001</td>\n",
       "    </tr>\n",
       "  </tbody>\n",
       "</table>\n",
       "</div>"
      ],
      "text/plain": [
       "            Moisture   MinTemp   MaxTemp   AvgTemp    Precip     Close  month  \\\n",
       "Date                                                                            \n",
       "2000-09-01  1.007060  1.022139  1.023832  1.022186  1.009865  0.971364      9   \n",
       "2000-10-01  1.004295  1.019263  1.006304  1.010330  0.984813  0.962382     10   \n",
       "2000-11-01  1.024722  1.024002  0.991924  1.003785  1.253921  0.874749     11   \n",
       "2000-12-01  1.034663  0.995086  0.991728  0.994344  0.546487  0.847439     12   \n",
       "2001-01-01  1.021791  0.989449  0.988048  0.990362  0.134294  1.022057      1   \n",
       "\n",
       "            year  \n",
       "Date              \n",
       "2000-09-01  2000  \n",
       "2000-10-01  2000  \n",
       "2000-11-01  2000  \n",
       "2000-12-01  2000  \n",
       "2001-01-01  2001  "
      ]
     },
     "execution_count": 759,
     "metadata": {},
     "output_type": "execute_result"
    }
   ],
   "source": [
    "df_Ivory_residual = pd.concat([decomposition_Moisture.resid,decomposition_MinTemp.resid,decomposition_MaxTemp.resid,decomposition_AvgTemp.resid,decomposition_Precip.resid,decomposition_Close.resid],axis=1)\n",
    "df_Ivory_residual.dropna(inplace=True)\n",
    "df_Ivory_residual.index.name = 'Date'\n",
    "df_Ivory_residual['month'] = df_Ivory_residual.index.month\n",
    "df_Ivory_residual['year'] = df_Ivory_residual.index.year\n",
    "df_Ivory_residual.head()"
   ]
  },
  {
   "cell_type": "code",
   "execution_count": 761,
   "metadata": {},
   "outputs": [
    {
     "data": {
      "image/png": "[encoded data removed]",
      "text/plain": [
       "<Figure size 864x288 with 4 Axes>"
      ]
     },
     "metadata": {
      "needs_background": "light"
     },
     "output_type": "display_data"
    }
   ],
   "source": [
    "fig, axes = plt.subplots(nrows=1, ncols=2, figsize=(12,4))\n",
    "axes[0].set(title='Correlation: Pearson')\n",
    "axes[1].set(title='Correlation: Spearman')\n",
    "#sns.heatmap(data=df_IvoryCoast.iloc[:,:-2].corr(method='pearson'), annot=True, ax=axes[0])\n",
    "#sns.heatmap(data=df_IvoryCoast.iloc[:,:-2].corr(method='spearman'), annot=True, ax=axes[1])\n",
    "sns.heatmap(data=df_IvoryCoast.iloc[:,:-2].corr(method='pearson'), annot=True, ax=axes[0])\n",
    "sns.heatmap(data=df_IvoryCoast.iloc[:,:-2].corr(method='spearman'), annot=True, ax=axes[1])\n",
    "plt.tight_layout()"
   ]
  },
  {
   "cell_type": "code",
   "execution_count": 764,
   "metadata": {},
   "outputs": [
    {
     "data": {
      "image/png": "[encoded data removed]",
      "text/plain": [
       "<Figure size 864x288 with 4 Axes>"
      ]
     },
     "metadata": {
      "needs_background": "light"
     },
     "output_type": "display_data"
    }
   ],
   "source": [
    "fig, axes = plt.subplots(nrows=1, ncols=2, figsize=(12,4))\n",
    "axes[0].set(title='Correlation: Pearson')\n",
    "axes[1].set(title='Correlation: Spearman')\n",
    "#sns.heatmap(data=df_Ivory_residual.iloc[:,:-2].corr(method='pearson'), annot=True, ax=axes[0])\n",
    "#sns.heatmap(data=df_Ivory_residual.iloc[:,:-2].corr(method='spearman'), annot=True, ax=axes[1])\n",
    "sns.heatmap(data=df_Ivory_residual.iloc[:,:-2].corr(method='pearson'), annot=True, ax=axes[0])\n",
    "sns.heatmap(data=df_Ivory_residual.iloc[:,:-2].corr(method='spearman'), annot=True, ax=axes[1])\n",
    "plt.tight_layout()"
   ]
  },
  {
   "cell_type": "code",
   "execution_count": null,
   "metadata": {},
   "outputs": [],
   "source": [
    "# # facet plot\n",
    "# df_IvoryCoast.plot(subplots=True, \n",
    "#         linewidth=0.5,\n",
    "# layout=(3, 2), figsize=(16, 10), sharex=False, sharey=False)\n",
    "\n",
    "# plt.show()"
   ]
  },
  {
   "cell_type": "code",
   "execution_count": null,
   "metadata": {},
   "outputs": [],
   "source": [
    "# # facet plot\n",
    "# df_Ivory_residual.plot(subplots=True, \n",
    "#         linewidth=0.5,\n",
    "# layout=(3, 2), figsize=(16, 10), sharex=False, sharey=False)\n",
    "\n",
    "# plt.show()"
   ]
  },
  {
   "cell_type": "code",
   "execution_count": 766,
   "metadata": {},
   "outputs": [],
   "source": [
    "# plt.figure(figsize=(20,5))\n",
    "# plt.subplot(1,2,1)\n",
    "# plt.subplots_adjust(wspace=0.2)\n",
    "# sns.boxplot(x=\"year\", y=\"Precip\", data=df_Ivory_residual)\n",
    "# plt.xlabel('year')\n",
    "# plt.title('Box plot of Yearly MinTemp')\n",
    "# sns.despine(left=True)\n",
    "# plt.tight_layout()\n",
    "\n",
    "# plt.figure(figsize=(20,5))\n",
    "# plt.subplot(1,2,2)\n",
    "# plt.subplots_adjust(wspace=0.2)\n",
    "# sns.boxplot(x=\"year\", y=\"Moisture\", data=df_Ivory_residual)\n",
    "# plt.xlabel('year')\n",
    "# plt.title('Box plot of Yearly MinTemp')\n",
    "# sns.despine(left=True)\n",
    "# plt.tight_layout()"
   ]
  },
  {
   "cell_type": "code",
   "execution_count": 770,
   "metadata": {},
   "outputs": [],
   "source": [
    "# #define function for ADF test\n",
    "# def adf_test(timeseries):\n",
    "#     #Perform Dickey-Fuller test:\n",
    "#     print ('Results of Dickey-Fuller Test:')\n",
    "#     '''\n",
    "#     dftest = adfuller(timeseries, autolag='AIC')\n",
    "#     dfoutput = pd.Series(dftest[0:4], index=['Test Statistic','p-value','#Lags Used','Number of Observations Used'])\n",
    "#     for key,value in dftest[4].items():\n",
    "#         dfoutput['Critical Value (%s)'%key] = value\n",
    "#     print (dfoutput)\n",
    "#     '''\n",
    "#     result = adfuller(timeseries, autolag='AIC')\n",
    "#     print(f'ADF Statistic: {result[0]}')\n",
    "#     print(f'p-value: {result[1]}')\n",
    "#     for key, value in result[4].items():\n",
    "#         print('Critial Values:')\n",
    "#         print(f'   {key}, {value}')\n",
    "#         if result[0]<value:\n",
    "#             print('stationary')\n",
    "#         else:\n",
    "#             print('non-stationary')\n",
    "#     if result[1]<0.05:\n",
    "#         print('Stationary')\n",
    "#     else:\n",
    "#         print('Non-stationary')"
   ]
  },
  {
   "cell_type": "code",
   "execution_count": 771,
   "metadata": {},
   "outputs": [],
   "source": [
    "# adf_test(df_Ivory_residual['Moisture'])\n",
    "# adf_test(df_Ivory_residual['MinTemp'])\n",
    "# adf_test(df_Ivory_residual['MaxTemp'])\n",
    "# adf_test(df_Ivory_residual['AvgTemp'])\n",
    "# adf_test(df_Ivory_residual['Precip'])"
   ]
  },
  {
   "cell_type": "code",
   "execution_count": 772,
   "metadata": {},
   "outputs": [],
   "source": [
    "# adf_test(df_IvoryCoast['Moisture'])\n",
    "# adf_test(df_IvoryCoast['MinTemp'])\n",
    "# adf_test(df_IvoryCoast['MaxTemp'])\n",
    "# adf_test(df_IvoryCoast['AvgTemp'])\n",
    "# adf_test(df_IvoryCoast['Precip'])"
   ]
  },
  {
   "cell_type": "code",
   "execution_count": null,
   "metadata": {},
   "outputs": [],
   "source": [
    "# #autocorrelation_plot(df_Ivory_residual['Moisture'])\n",
    "# #autocorrelation_plot(df_IvoryCoast['Moisture'])\n",
    "# plot_acf(df_IvoryCoast['Moisture'])\n",
    "# plt.show()"
   ]
  },
  {
   "cell_type": "code",
   "execution_count": 773,
   "metadata": {},
   "outputs": [],
   "source": [
    "# def get_rows(df):\n",
    "\n",
    "#     if len(df.columns) % 2 == 0:\n",
    "#         return len(df.columns)//2\n",
    "#     else:\n",
    "#         return (len(df.columns)//2) + 1\n",
    "\n",
    "# def custom_autocorrelationplot(df):\n",
    "\n",
    "#     no_of_rows = get_rows(df)\n",
    "#     no_of_cols = 2\n",
    "\n",
    "#     fig, axes = plt.subplots(no_of_rows, no_of_cols, figsize=(15, 15))\n",
    "#     fig.subplots_adjust(hspace=1, top=0.4)\n",
    "\n",
    "#     for col, ax in zip(list(df.columns), axes.flatten()):\n",
    "#         pd.plotting.autocorrelation_plot(df[col], ax=ax)\n",
    "#         ax.set_title(str(col))\n",
    "\n",
    "# def custom_lagplot(df):\n",
    "\n",
    "#     no_of_rows = get_rows(df)\n",
    "#     no_of_cols = 2\n",
    "\n",
    "#     fig, axes = plt.subplots(no_of_rows, no_of_cols, figsize=(15, 30))\n",
    "#     fig.subplots_adjust(hspace=1, top=0.3)\n",
    "\n",
    "#     for col, ax in zip(list(df.columns), axes.flatten()):\n",
    "#         lag_plot(df[col], ax=ax)\n",
    "#         ax.set_title(str(col))"
   ]
  },
  {
   "cell_type": "code",
   "execution_count": null,
   "metadata": {},
   "outputs": [],
   "source": [
    "# custom_autocorrelationplot(df_Ivory_residual.iloc[:,:-2])"
   ]
  },
  {
   "cell_type": "code",
   "execution_count": null,
   "metadata": {},
   "outputs": [],
   "source": [
    "# custom_lagplot(df_Ivory_residual.iloc[:,:-2])"
   ]
  },
  {
   "cell_type": "code",
   "execution_count": 774,
   "metadata": {},
   "outputs": [],
   "source": [
    "df_Ivory_residual.drop(columns=['month','year'], inplace=True)"
   ]
  },
  {
   "cell_type": "code",
   "execution_count": 775,
   "metadata": {},
   "outputs": [],
   "source": [
    "df_IvoryCoast.drop(columns=['month','year'], inplace=True)"
   ]
  },
  {
   "cell_type": "code",
   "execution_count": 1201,
   "metadata": {},
   "outputs": [],
   "source": [
    "df_lagged = df_Ivory_residual.copy() #.iloc[:,1:]\n",
    "trailing_window_size = 4\n",
    "\n",
    "for window in range(1, trailing_window_size + 1):\n",
    "    shifted = df_Ivory_residual.shift(window)\n",
    "    shifted.columns = [x + \"_lag_\" + str(window) for x in df_Ivory_residual.columns]\n",
    "    \n",
    "    df_lagged = pd.concat((df_lagged, shifted), axis=1)\n",
    "\n",
    "df_lagged = df_lagged.dropna()\n",
    "#df_lagged.head()"
   ]
  },
  {
   "cell_type": "code",
   "execution_count": 1202,
   "metadata": {},
   "outputs": [],
   "source": [
    "list_col = []\n",
    "for col in df_lagged.columns.to_list():\n",
    "    if 'Close_lag_' not in col:\n",
    "        list_col.append(col)\n",
    "\n",
    "#print(list_col)\n",
    "list_col = list_col[:5]+list_col[6:]+[list_col[5]]\n",
    "#print(list_col)\n",
    "df_lagged = df_lagged[list_col]\n",
    "#df_lagged"
   ]
  },
  {
   "cell_type": "code",
   "execution_count": 1203,
   "metadata": {},
   "outputs": [
    {
     "data": {
      "text/plain": [
       "\"\\nuse only when .iloc[:,1:] is used in previous step where we dont use lag variable for close\\ndf_lagged = df_lagged.merge(df_Ivory_residual.iloc[:,[0]]                                       , how='inner'                                       , left_index=True                                       , right_index=True\\n                           )\\n\""
      ]
     },
     "execution_count": 1203,
     "metadata": {},
     "output_type": "execute_result"
    }
   ],
   "source": [
    "'''\n",
    "use only when .iloc[:,1:] is used in previous step where we dont use lag variable for close\n",
    "df_lagged = df_lagged.merge(df_Ivory_residual.iloc[:,[0]]\\\n",
    "                                       , how='inner'\\\n",
    "                                       , left_index=True\\\n",
    "                                       , right_index=True\n",
    "                           )\n",
    "'''"
   ]
  },
  {
   "cell_type": "code",
   "execution_count": 1204,
   "metadata": {},
   "outputs": [
    {
     "data": {
      "text/plain": [
       "'\\ncols = df_IvoryCoast.columns.to_list()\\ncols = cols[1:] + [cols[0]]\\ndf_IvoryCoast = df_IvoryCoast[cols]\\ndf_IvoryCoast.head()\\n'"
      ]
     },
     "execution_count": 1204,
     "metadata": {},
     "output_type": "execute_result"
    }
   ],
   "source": [
    "'''\n",
    "cols = df_IvoryCoast.columns.to_list()\n",
    "cols = cols[1:] + [cols[0]]\n",
    "df_IvoryCoast = df_IvoryCoast[cols]\n",
    "df_IvoryCoast.head()\n",
    "'''"
   ]
  },
  {
   "cell_type": "code",
   "execution_count": 1205,
   "metadata": {},
   "outputs": [],
   "source": [
    "#df_lagged = df_lagged.iloc[:,6:] #shift,1 = 6 & shift,2 = 12 & shift,3 = 18\n",
    "scaler = MinMaxScaler()\n",
    "df_Ivory = scaler.fit_transform(df_lagged) #df_lagged #df_Ivory_residual(after decomp) #df_IvoryCoast(before decom)\n",
    "y = df_Ivory[:,len(df_lagged.columns)-1]\n",
    "X = df_Ivory[:,[i for i in range(0,len(df_lagged.columns)-1)]]\n",
    "X_train, X_test, y_train, y_test = train_test_split(X, y, test_size=0.3, random_state=42)\n",
    "X_train = np.reshape(X_train, (X_train.shape[0], 1, X_train.shape[1]))\n",
    "X_test = np.reshape(X_test, (X_test.shape[0], 1, X_test.shape[1]))"
   ]
  },
  {
   "cell_type": "code",
   "execution_count": 1206,
   "metadata": {},
   "outputs": [],
   "source": [
    "# scaler = MinMaxScaler()\n",
    "# df_Ivory = scaler.fit_transform(df_lagged)\n",
    "# train_size = int(len(df_Ivory)*0.80)\n",
    "# test_size = len(df_Ivory) - train_size\n",
    "# train, test = df_Ivory[0:train_size,:], df_Ivory[train_size:len(df_Ivory),:]\n",
    "\n",
    "# # convert an array of values into a dataset matrix\n",
    "# def create_dataset(dataset, look_back=1):\n",
    "#     X, Y = [], []\n",
    "#     for i in range(len(dataset)-look_back-1):\n",
    "#         a = dataset[i:(i+look_back), 0]\n",
    "#         X.append(a)\n",
    "#         Y.append(dataset[i + look_back, 0])\n",
    "#     return np.array(X), np.array(Y)\n",
    "\n",
    "# # reshape into X=t and Y=t+1\n",
    "# look_back = 30\n",
    "# X_train, y_train = create_dataset(train, look_back)\n",
    "# X_test, y_test = create_dataset(test, look_back)\n",
    "# X_train = np.reshape(X_train, (X_train.shape[0], 1, X_train.shape[1]))\n",
    "# X_test = np.reshape(X_test, (X_test.shape[0], 1, X_test.shape[1]))"
   ]
  },
  {
   "cell_type": "code",
   "execution_count": 1207,
   "metadata": {},
   "outputs": [
    {
     "name": "stdout",
     "output_type": "stream",
     "text": [
      "[0.02867425 0.11621895 0.03114252 0.03560299 0.03150342 0.10310378\n",
      " 0.03064823 0.0359367  0.02723146 0.03024088 0.05645616 0.03017404\n",
      " 0.03899077 0.02607942 0.02807188 0.03039341 0.03270261 0.03510276\n",
      " 0.02798579 0.03777897 0.03793226 0.03224524 0.03202968 0.02650803\n",
      " 0.05724579]\n"
     ]
    },
    {
     "data": {
      "image/png": "[encoded data removed]",
      "text/plain": [
       "<Figure size 1152x360 with 1 Axes>"
      ]
     },
     "metadata": {
      "needs_background": "light"
     },
     "output_type": "display_data"
    }
   ],
   "source": [
    "#Variable importance\n",
    "model_rfr = RandomForestRegressor(n_estimators=500, random_state=1)\n",
    "model_rfr.fit(X, y)\n",
    "print(model_rfr.feature_importances_)\n",
    "names = df_lagged.columns.values[0:-1]\n",
    "ticks = [i for i in range(len(names))]\n",
    "plt.figure(figsize=(16,5))\n",
    "plt.bar(ticks, model_rfr.feature_importances_)\n",
    "plt.xticks(ticks, names, rotation=90)\n",
    "plt.show()"
   ]
  },
  {
   "cell_type": "code",
   "execution_count": 1208,
   "metadata": {},
   "outputs": [
    {
     "name": "stdout",
     "output_type": "stream",
     "text": [
      "Selected Features:\n",
      "MinTemp\n",
      "Moisture_lag_1\n",
      "Precip_lag_4\n"
     ]
    }
   ],
   "source": [
    "# Variable Ranking\n",
    "rfe = RFE(RandomForestRegressor(n_estimators=500, random_state=1), n_features_to_select=3)\n",
    "fit = rfe.fit(X, y)\n",
    "# report selected features\n",
    "print('Selected Features:')\n",
    "names = df_lagged.columns.values[0:-1]\n",
    "list_selected = []\n",
    "for i in range(len(fit.support_)):\n",
    "    if fit.support_[i]:\n",
    "        print(names[i])\n",
    "        list_selected.append(names[i])\n",
    "\n",
    "# #plot feature rank\n",
    "# names = df_lagged.columns.values[0:-1]\n",
    "# ticks = [i for i in range(len(names))]\n",
    "# plt.bar(ticks, fit.ranking_)\n",
    "# plt.xticks(ticks, names,rotation=90)\n",
    "# plt.show()"
   ]
  },
  {
   "cell_type": "code",
   "execution_count": 1209,
   "metadata": {},
   "outputs": [],
   "source": [
    "# Training on selected features\n",
    "df_lagged_selected = df_lagged[list_selected]\n",
    "df_lagged_selected = df_lagged_selected.merge(df_lagged['Close'],how='inner',left_index=True, right_index=True)\n",
    "scaler = MinMaxScaler()\n",
    "df_Ivory = scaler.fit_transform(df_lagged_selected) #df_lagged #df_Ivory_residual(after decomp) #df_IvoryCoast(before decom)\n",
    "y = df_Ivory[:,len(df_lagged_selected.columns)-1]\n",
    "X = df_Ivory[:,[i for i in range(0,len(df_lagged_selected.columns)-1)]]\n",
    "X_train, X_test, y_train, y_test = train_test_split(X, y, test_size=0.2, random_state=42)\n",
    "X_train = np.reshape(X_train, (X_train.shape[0], 1, X_train.shape[1]))\n",
    "X_test = np.reshape(X_test, (X_test.shape[0], 1, X_test.shape[1]))"
   ]
  },
  {
   "cell_type": "code",
   "execution_count": 1210,
   "metadata": {},
   "outputs": [
    {
     "name": "stdout",
     "output_type": "stream",
     "text": [
      "Train on 177 samples, validate on 45 samples\n",
      "Epoch 1/100\n",
      " - 5s - loss: 0.2571 - val_loss: 0.2353\n",
      "Epoch 2/100\n",
      " - 0s - loss: 0.2331 - val_loss: 0.2119\n",
      "Epoch 3/100\n",
      " - 0s - loss: 0.2108 - val_loss: 0.1904\n",
      "Epoch 4/100\n",
      " - 0s - loss: 0.1902 - val_loss: 0.1706\n",
      "Epoch 5/100\n",
      " - 0s - loss: 0.1714 - val_loss: 0.1526\n",
      "Epoch 6/100\n",
      " - 0s - loss: 0.1541 - val_loss: 0.1362\n",
      "Epoch 7/100\n",
      " - 0s - loss: 0.1384 - val_loss: 0.1213\n",
      "Epoch 8/100\n",
      " - 0s - loss: 0.1242 - val_loss: 0.1079\n",
      "Epoch 9/100\n",
      " - 0s - loss: 0.1113 - val_loss: 0.0960\n",
      "Epoch 10/100\n",
      " - 0s - loss: 0.0998 - val_loss: 0.0854\n",
      "Epoch 11/100\n",
      " - 0s - loss: 0.0896 - val_loss: 0.0761\n",
      "Epoch 12/100\n",
      " - 0s - loss: 0.0806 - val_loss: 0.0680\n",
      "Epoch 13/100\n",
      " - 0s - loss: 0.0727 - val_loss: 0.0611\n",
      "Epoch 14/100\n",
      " - 0s - loss: 0.0660 - val_loss: 0.0552\n",
      "Epoch 15/100\n",
      " - 0s - loss: 0.0602 - val_loss: 0.0504\n",
      "Epoch 16/100\n",
      " - 0s - loss: 0.0555 - val_loss: 0.0465\n",
      "Epoch 17/100\n",
      " - 0s - loss: 0.0516 - val_loss: 0.0435\n",
      "Epoch 18/100\n",
      " - 0s - loss: 0.0484 - val_loss: 0.0411\n",
      "Epoch 19/100\n",
      " - 0s - loss: 0.0460 - val_loss: 0.0394\n",
      "Epoch 20/100\n",
      " - 0s - loss: 0.0442 - val_loss: 0.0382\n",
      "Epoch 21/100\n",
      " - 0s - loss: 0.0428 - val_loss: 0.0374\n",
      "Epoch 22/100\n",
      " - 0s - loss: 0.0419 - val_loss: 0.0369\n",
      "Epoch 23/100\n",
      " - 0s - loss: 0.0412 - val_loss: 0.0367\n",
      "Epoch 24/100\n",
      " - 0s - loss: 0.0407 - val_loss: 0.0365\n",
      "Epoch 25/100\n",
      " - 0s - loss: 0.0404 - val_loss: 0.0365\n",
      "Epoch 26/100\n",
      " - 0s - loss: 0.0402 - val_loss: 0.0364\n",
      "Epoch 27/100\n",
      " - 0s - loss: 0.0401 - val_loss: 0.0364\n",
      "Epoch 28/100\n",
      " - 0s - loss: 0.0400 - val_loss: 0.0364\n",
      "Epoch 29/100\n",
      " - 0s - loss: 0.0399 - val_loss: 0.0364\n",
      "Epoch 30/100\n",
      " - 0s - loss: 0.0398 - val_loss: 0.0364\n",
      "Epoch 31/100\n",
      " - 0s - loss: 0.0397 - val_loss: 0.0363\n",
      "Epoch 32/100\n",
      " - 0s - loss: 0.0396 - val_loss: 0.0363\n",
      "Epoch 33/100\n",
      " - 0s - loss: 0.0396 - val_loss: 0.0362\n",
      "Epoch 34/100\n",
      " - 0s - loss: 0.0395 - val_loss: 0.0362\n",
      "Epoch 35/100\n",
      " - 0s - loss: 0.0394 - val_loss: 0.0361\n",
      "Epoch 36/100\n",
      " - 0s - loss: 0.0393 - val_loss: 0.0360\n",
      "Epoch 37/100\n",
      " - 0s - loss: 0.0392 - val_loss: 0.0359\n",
      "Epoch 38/100\n",
      " - 0s - loss: 0.0391 - val_loss: 0.0358\n",
      "Epoch 39/100\n",
      " - 0s - loss: 0.0391 - val_loss: 0.0358\n",
      "Epoch 40/100\n",
      " - 0s - loss: 0.0390 - val_loss: 0.0357\n",
      "Epoch 41/100\n",
      " - 0s - loss: 0.0389 - val_loss: 0.0356\n",
      "Epoch 42/100\n",
      " - 0s - loss: 0.0388 - val_loss: 0.0355\n",
      "Epoch 43/100\n",
      " - 0s - loss: 0.0387 - val_loss: 0.0354\n",
      "Epoch 44/100\n",
      " - 0s - loss: 0.0386 - val_loss: 0.0353\n",
      "Epoch 45/100\n",
      " - 0s - loss: 0.0385 - val_loss: 0.0352\n",
      "Epoch 46/100\n",
      " - 0s - loss: 0.0384 - val_loss: 0.0352\n",
      "Epoch 47/100\n",
      " - 0s - loss: 0.0384 - val_loss: 0.0351\n",
      "Epoch 48/100\n",
      " - 0s - loss: 0.0383 - val_loss: 0.0350\n",
      "Epoch 49/100\n",
      " - 0s - loss: 0.0382 - val_loss: 0.0349\n",
      "Epoch 50/100\n",
      " - 0s - loss: 0.0381 - val_loss: 0.0348\n",
      "Epoch 51/100\n",
      " - 0s - loss: 0.0380 - val_loss: 0.0347\n",
      "Epoch 52/100\n",
      " - 0s - loss: 0.0379 - val_loss: 0.0347\n",
      "Epoch 53/100\n",
      " - 0s - loss: 0.0378 - val_loss: 0.0346\n",
      "Epoch 54/100\n",
      " - 0s - loss: 0.0378 - val_loss: 0.0345\n",
      "Epoch 55/100\n",
      " - 0s - loss: 0.0377 - val_loss: 0.0344\n",
      "Epoch 56/100\n",
      " - 0s - loss: 0.0376 - val_loss: 0.0343\n",
      "Epoch 57/100\n",
      " - 0s - loss: 0.0375 - val_loss: 0.0343\n",
      "Epoch 58/100\n",
      " - 0s - loss: 0.0374 - val_loss: 0.0342\n",
      "Epoch 59/100\n",
      " - 0s - loss: 0.0373 - val_loss: 0.0341\n",
      "Epoch 60/100\n",
      " - 0s - loss: 0.0373 - val_loss: 0.0340\n",
      "Epoch 61/100\n",
      " - 0s - loss: 0.0372 - val_loss: 0.0339\n",
      "Epoch 62/100\n",
      " - 0s - loss: 0.0371 - val_loss: 0.0339\n",
      "Epoch 63/100\n",
      " - 0s - loss: 0.0370 - val_loss: 0.0338\n",
      "Epoch 64/100\n",
      " - 0s - loss: 0.0369 - val_loss: 0.0337\n",
      "Epoch 65/100\n",
      " - 0s - loss: 0.0368 - val_loss: 0.0336\n",
      "Epoch 66/100\n",
      " - 0s - loss: 0.0368 - val_loss: 0.0336\n",
      "Epoch 67/100\n",
      " - 0s - loss: 0.0367 - val_loss: 0.0335\n",
      "Epoch 68/100\n",
      " - 0s - loss: 0.0366 - val_loss: 0.0334\n",
      "Epoch 69/100\n",
      " - 0s - loss: 0.0365 - val_loss: 0.0333\n",
      "Epoch 70/100\n",
      " - 0s - loss: 0.0364 - val_loss: 0.0332\n",
      "Epoch 71/100\n",
      " - 0s - loss: 0.0364 - val_loss: 0.0332\n",
      "Epoch 72/100\n",
      " - 0s - loss: 0.0363 - val_loss: 0.0331\n",
      "Epoch 73/100\n",
      " - 0s - loss: 0.0362 - val_loss: 0.0330\n",
      "Epoch 74/100\n",
      " - 0s - loss: 0.0361 - val_loss: 0.0330\n",
      "Epoch 75/100\n",
      " - 0s - loss: 0.0361 - val_loss: 0.0329\n",
      "Epoch 76/100\n",
      " - 0s - loss: 0.0360 - val_loss: 0.0328\n",
      "Epoch 77/100\n",
      " - 0s - loss: 0.0359 - val_loss: 0.0327\n",
      "Epoch 78/100\n",
      " - 0s - loss: 0.0358 - val_loss: 0.0327\n",
      "Epoch 79/100\n",
      " - 0s - loss: 0.0357 - val_loss: 0.0326\n",
      "Epoch 80/100\n",
      " - 0s - loss: 0.0357 - val_loss: 0.0325\n",
      "Epoch 81/100\n",
      " - 0s - loss: 0.0356 - val_loss: 0.0325\n",
      "Epoch 82/100\n",
      " - 0s - loss: 0.0355 - val_loss: 0.0324\n",
      "Epoch 83/100\n",
      " - 0s - loss: 0.0355 - val_loss: 0.0323\n",
      "Epoch 84/100\n",
      " - 0s - loss: 0.0354 - val_loss: 0.0322\n",
      "Epoch 85/100\n",
      " - 0s - loss: 0.0353 - val_loss: 0.0322\n",
      "Epoch 86/100\n",
      " - 0s - loss: 0.0352 - val_loss: 0.0321\n",
      "Epoch 87/100\n",
      " - 0s - loss: 0.0352 - val_loss: 0.0320\n",
      "Epoch 88/100\n",
      " - 0s - loss: 0.0351 - val_loss: 0.0320\n",
      "Epoch 89/100\n",
      " - 0s - loss: 0.0350 - val_loss: 0.0319\n",
      "Epoch 90/100\n",
      " - 0s - loss: 0.0349 - val_loss: 0.0319\n",
      "Epoch 91/100\n",
      " - 0s - loss: 0.0349 - val_loss: 0.0318\n",
      "Epoch 92/100\n",
      " - 0s - loss: 0.0348 - val_loss: 0.0317\n",
      "Epoch 93/100\n",
      " - 0s - loss: 0.0347 - val_loss: 0.0317\n",
      "Epoch 94/100\n",
      " - 0s - loss: 0.0347 - val_loss: 0.0316\n",
      "Epoch 95/100\n",
      " - 0s - loss: 0.0346 - val_loss: 0.0315\n",
      "Epoch 96/100\n",
      " - 0s - loss: 0.0345 - val_loss: 0.0315\n",
      "Epoch 97/100\n",
      " - 0s - loss: 0.0345 - val_loss: 0.0314\n",
      "Epoch 98/100\n",
      " - 0s - loss: 0.0344 - val_loss: 0.0314\n",
      "Epoch 99/100\n",
      " - 0s - loss: 0.0343 - val_loss: 0.0313\n",
      "Epoch 100/100\n",
      " - 0s - loss: 0.0343 - val_loss: 0.0313\n"
     ]
    }
   ],
   "source": [
    "model = Sequential()\n",
    "model.add(LSTM(10, input_shape=(X_train.shape[1], X_train.shape[2])))\n",
    "model.add(Dense(1))\n",
    "model.compile(loss='mean_squared_error', optimizer='adam')\n",
    "\n",
    "history = model.fit(X_train,y_train,validation_data=(X_test,y_test),epochs=100,verbose=2,callbacks=[EarlyStopping(patience=10)],shuffle=False)\n",
    "\n",
    "#Training Phase\n",
    "#model.summary()"
   ]
  },
  {
   "cell_type": "code",
   "execution_count": 1211,
   "metadata": {},
   "outputs": [
    {
     "data": {
      "image/png": "[encoded data removed]",
      "text/plain": [
       "<Figure size 432x288 with 1 Axes>"
      ]
     },
     "metadata": {
      "needs_background": "light"
     },
     "output_type": "display_data"
    }
   ],
   "source": [
    "plt.plot(history.history['loss'],label='train')\n",
    "plt.plot(history.history['val_loss'],label='test')\n",
    "plt.legend()\n",
    "plt.show()"
   ]
  },
  {
   "cell_type": "code",
   "execution_count": 1212,
   "metadata": {},
   "outputs": [],
   "source": [
    "predicted = model.predict(X_test)\n",
    "y_test = y_test.reshape(len(y_test),1)"
   ]
  },
  {
   "cell_type": "code",
   "execution_count": 991,
   "metadata": {},
   "outputs": [
    {
     "data": {
      "text/plain": [
       "(68, 1)"
      ]
     },
     "execution_count": 991,
     "metadata": {},
     "output_type": "execute_result"
    }
   ],
   "source": [
    "y_test.shape"
   ]
  },
  {
   "cell_type": "code",
   "execution_count": 1215,
   "metadata": {},
   "outputs": [
    {
     "data": {
      "image/png": "[encoded data removed]",
      "text/plain": [
       "<Figure size 576x288 with 1 Axes>"
      ]
     },
     "metadata": {
      "needs_background": "light"
     },
     "output_type": "display_data"
    }
   ],
   "source": [
    "aa=[x for x in range(y_test.shape[0])] #y_test.shape\n",
    "plt.figure(figsize=(8,4))\n",
    "plt.plot(aa, y_test, marker='.', label=\"actual\")\n",
    "plt.plot(aa, predicted, color='r', label=\"prediction\")\n",
    "plt.legend(loc=\"upper left\")\n",
    "plt.ylabel('Close', size=15)\n",
    "plt.show();"
   ]
  },
  {
   "cell_type": "code",
   "execution_count": 897,
   "metadata": {},
   "outputs": [],
   "source": [
    "X_test_Re = X_test.reshape(X_test.shape[0],X_test.shape[2])\n",
    "predicted = np.concatenate((predicted,X_test_Re[:,1:]),axis=1)\n",
    "y_test = np.concatenate((y_test,X_test_Re[:,1:]),axis=1)"
   ]
  },
  {
   "cell_type": "code",
   "execution_count": 1213,
   "metadata": {},
   "outputs": [
    {
     "data": {
      "text/plain": [
       "0.17678577030729298"
      ]
     },
     "execution_count": 1213,
     "metadata": {},
     "output_type": "execute_result"
    }
   ],
   "source": [
    "np.sqrt(mean_squared_error(y_test[:,0],predicted[:,0]))"
   ]
  },
  {
   "cell_type": "code",
   "execution_count": 1214,
   "metadata": {},
   "outputs": [
    {
     "data": {
      "text/plain": [
       "0.3759443901323776"
      ]
     },
     "execution_count": 1214,
     "metadata": {},
     "output_type": "execute_result"
    }
   ],
   "source": [
    "np.sqrt(mean_absolute_error(y_test[:,0],predicted[:,0]))"
   ]
  },
  {
   "cell_type": "code",
   "execution_count": 901,
   "metadata": {},
   "outputs": [],
   "source": [
    "'''\n",
    "result = pd.concat([pd.Series(predicted[:,0]),pd.Series(y_test[:,0])],axis=1)\n",
    "result.columns = ['thetahat','theta']\n",
    "result['diff'] = result['thetahat'] - result['theta']\n",
    "'''"
   ]
  },
  {
   "cell_type": "code",
   "execution_count": 930,
   "metadata": {},
   "outputs": [],
   "source": [
    "def exponential_smoothing(series, alpha):\n",
    "    \"\"\"\n",
    "        series - dataset with timestamps\n",
    "        alpha - float [0.0, 1.0], smoothing parameter\n",
    "    \"\"\"\n",
    "    result = [series[0]] # first value is same as series\n",
    "    for n in range(1, len(series)):\n",
    "        result.append(alpha * series[n] + (1 - alpha) * result[n-1])\n",
    "    return result\n",
    "\n",
    "def plotExponentialSmoothing(series, alphas):\n",
    "    \"\"\"\n",
    "        Plots exponential smoothing with different alphas\n",
    "        \n",
    "        series - dataset with timestamps\n",
    "        alphas - list of floats, smoothing parameters\n",
    "        \n",
    "    \"\"\"\n",
    "    with plt.style.context('seaborn-white'):    \n",
    "        plt.figure(figsize=(15, 7))\n",
    "        for alpha in alphas:\n",
    "            plt.plot(exponential_smoothing(series, alpha), label=\"Alpha {}\".format(alpha))\n",
    "        plt.plot(series.values, \"c\", label = \"Actual\")\n",
    "        plt.legend(loc=\"best\")\n",
    "        plt.axis('tight')\n",
    "        plt.title(\"Exponential Smoothing\")\n",
    "        plt.grid(True);"
   ]
  },
  {
   "cell_type": "code",
   "execution_count": 933,
   "metadata": {},
   "outputs": [
    {
     "data": {
      "image/png": "[encoded data removed]",
      "text/plain": [
       "<Figure size 1080x504 with 1 Axes>"
      ]
     },
     "metadata": {},
     "output_type": "display_data"
    }
   ],
   "source": [
    "plotExponentialSmoothing(df_lagged['Close_lag1'],[0.03,0.05])"
   ]
  },
  {
   "cell_type": "code",
   "execution_count": null,
   "metadata": {},
   "outputs": [],
   "source": []
  }
 ],
 "metadata": {
  "kernelspec": {
   "display_name": "Python 3",
   "language": "python",
   "name": "python3"
  },
  "language_info": {
   "codemirror_mode": {
    "name": "ipython",
    "version": 3
   },
   "file_extension": ".py",
   "mimetype": "text/x-python",
   "name": "python",
   "nbconvert_exporter": "python",
   "pygments_lexer": "ipython3",
   "version": "3.7.4"
  }
 },
 "nbformat": 4,
 "nbformat_minor": 2
}
